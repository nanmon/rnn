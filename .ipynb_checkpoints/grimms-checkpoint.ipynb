{
 "cells": [
  {
   "cell_type": "markdown",
   "metadata": {},
   "source": [
    "# Red neuronal recurrente"
   ]
  },
  {
   "cell_type": "markdown",
   "metadata": {},
   "source": [
    "### Importando las librerias"
   ]
  },
  {
   "cell_type": "code",
   "execution_count": 1,
   "metadata": {},
   "outputs": [],
   "source": [
    "%matplotlib inline\n",
    "import numpy as np\n",
    "import matplotlib.pyplot as plt"
   ]
  },
  {
   "cell_type": "markdown",
   "metadata": {},
   "source": [
    "### Importando los datos de entrenamiento"
   ]
  },
  {
   "cell_type": "code",
   "execution_count": 2,
   "metadata": {},
   "outputs": [],
   "source": [
    "dataset_train = open(\"grimms.txt\", 'r', encoding='utf8').read()\n",
    "# nparray de palabras\n",
    "characters = list(set(dataset_train))\n",
    "char_to_index = { ch:i for i,ch in enumerate(characters) }\n",
    "index_to_char = { i:ch for i,ch in enumerate(characters) }"
   ]
  },
  {
   "cell_type": "markdown",
   "metadata": {},
   "source": [
    "### Constantes"
   ]
  },
  {
   "cell_type": "code",
   "execution_count": 3,
   "metadata": {},
   "outputs": [],
   "source": [
    "SEQ_LENGTH = 200\n",
    "VOCAB_SIZE = len(characters)\n",
    "N_SEQUENCES = int(len(dataset_train)/SEQ_LENGTH)\n",
    "HIDDEN_DIM = 700 # neuronas por capa\n",
    "LSTM_LAYERS = 3 # numero de capas\n",
    "DROPOUT_RATIO = 0.3 # dropout de la primera capa"
   ]
  },
  {
   "cell_type": "markdown",
   "metadata": {},
   "source": [
    "### Creando la estructura de datos con [SEQ_LENGTH] pasos de tiempo y una salida"
   ]
  },
  {
   "cell_type": "code",
   "execution_count": 4,
   "metadata": {},
   "outputs": [],
   "source": [
    "X_train = np.zeros((N_SEQUENCES, SEQ_LENGTH, VOCAB_SIZE))\n",
    "y_train = np.zeros((N_SEQUENCES, SEQ_LENGTH, VOCAB_SIZE))\n",
    "for i in range(0, N_SEQUENCES):\n",
    "    X_sequence = dataset_train[i*SEQ_LENGTH: (i+1)*SEQ_LENGTH]\n",
    "    X_sequence_index = [char_to_index[value] for value in X_sequence]\n",
    "    input_sequence = np.zeros((SEQ_LENGTH, VOCAB_SIZE))\n",
    "    for j in range(SEQ_LENGTH):\n",
    "        input_sequence[j][X_sequence_index[j]] = 1\n",
    "    X_train[i] = input_sequence\n",
    "    \n",
    "    y_sequence = dataset_train[i*SEQ_LENGTH+1: (i+1)*SEQ_LENGTH+1]\n",
    "    y_sequence_index = [char_to_index[value] for value in y_sequence]\n",
    "    target_sequence = np.zeros((SEQ_LENGTH, VOCAB_SIZE))\n",
    "    for j in range(SEQ_LENGTH):\n",
    "        target_sequence[j][y_sequence_index[j]] = 1\n",
    "    y_train[i] = target_sequence"
   ]
  },
  {
   "cell_type": "markdown",
   "metadata": {},
   "source": [
    "### Construyendo la red neuronal recurrente"
   ]
  },
  {
   "cell_type": "code",
   "execution_count": 5,
   "metadata": {
    "scrolled": false
   },
   "outputs": [
    {
     "name": "stderr",
     "output_type": "stream",
     "text": [
      "Using TensorFlow backend.\n"
     ]
    }
   ],
   "source": [
    "from keras.models import Sequential\n",
    "from keras.layers import Dense, LSTM, Dropout, TimeDistributed, Activation\n",
    "\n",
    "def build_rnn():\n",
    "    # Inicializando la red\n",
    "    model = Sequential()\n",
    "    \n",
    "    #Añadiendo la primera LSTM\n",
    "    model.add(LSTM(\n",
    "        units = HIDDEN_DIM, \n",
    "        return_sequences = True,             # Pasa las secuencias a la siguiente capa encolada LSTM\n",
    "        input_shape = (None, VOCAB_SIZE)     # Tamaño de la entrada\n",
    "    ))\n",
    "    model.add(Dropout(DROPOUT_RATIO))\n",
    "    \n",
    "    for i in range(LSTM_LAYERS - 1):\n",
    "        #Añadiendo las demas LSTM\n",
    "        model.add(LSTM(\n",
    "            units = HIDDEN_DIM, \n",
    "            return_sequences = True\n",
    "        ))\n",
    "    model.add(TimeDistributed(Dense(VOCAB_SIZE)))\n",
    "    model.add(Activation(\"softmax\"))\n",
    "    \n",
    "    # Compilando la red\n",
    "    model.compile(\n",
    "        optimizer = 'rmsprop', \n",
    "        loss = 'categorical_crossentropy'\n",
    "    )\n",
    "    return model"
   ]
  },
  {
   "cell_type": "markdown",
   "metadata": {},
   "source": [
    "### Entrenamiento"
   ]
  },
  {
   "cell_type": "code",
   "execution_count": 6,
   "metadata": {
    "scrolled": true
   },
   "outputs": [
    {
     "ename": "TypeError",
     "evalue": "__init__() missing 1 required positional argument: 'filepath'",
     "output_type": "error",
     "traceback": [
      "\u001b[1;31m---------------------------------------------------------------------------\u001b[0m",
      "\u001b[1;31mTypeError\u001b[0m                                 Traceback (most recent call last)",
      "\u001b[1;32m<ipython-input-6-c45f1cbabd37>\u001b[0m in \u001b[0;36m<module>\u001b[1;34m()\u001b[0m\n\u001b[0;32m      1\u001b[0m \u001b[1;32mfrom\u001b[0m \u001b[0mkeras\u001b[0m\u001b[1;33m.\u001b[0m\u001b[0mcallbacks\u001b[0m \u001b[1;32mimport\u001b[0m \u001b[0mModelCheckpoint\u001b[0m\u001b[1;33m\u001b[0m\u001b[0m\n\u001b[0;32m      2\u001b[0m \u001b[1;33m\u001b[0m\u001b[0m\n\u001b[1;32m----> 3\u001b[1;33m \u001b[0mcheckpoint\u001b[0m \u001b[1;33m=\u001b[0m \u001b[0mModelCheckpoint\u001b[0m\u001b[1;33m(\u001b[0m\u001b[1;33m)\u001b[0m\u001b[1;33m\u001b[0m\u001b[0m\n\u001b[0m\u001b[0;32m      4\u001b[0m \u001b[1;33m\u001b[0m\u001b[0m\n\u001b[0;32m      5\u001b[0m \u001b[1;31m# model = build_rnn()\u001b[0m\u001b[1;33m\u001b[0m\u001b[1;33m\u001b[0m\u001b[0m\n",
      "\u001b[1;31mTypeError\u001b[0m: __init__() missing 1 required positional argument: 'filepath'"
     ]
    }
   ],
   "source": [
    "from keras.callbacks import ModelCheckpoint\n",
    "\n",
    "checkpoint = ModelCheckpoint(\n",
    "    filepath = \"ckpt/weights.{epoch:02d}-{val_loss:.2f}.hdf5\",\n",
    "    period = 10\n",
    ")\n",
    "\n",
    "model = build_rnn()\n",
    "model.fit(X_train, y_train, epochs = 100, batch_size = 32, callbacks = [checkpoint])"
   ]
  },
  {
   "cell_type": "markdown",
   "metadata": {},
   "source": [
    "### Haciendo predicciones"
   ]
  },
  {
   "cell_type": "code",
   "execution_count": 26,
   "metadata": {},
   "outputs": [
    {
     "name": "stdout",
     "output_type": "stream",
     "text": [
      "maro\n",
      "Matamoras\n",
      "Matimol Martanterrosisio\n",
      "Miguel de Altanoda\n",
      "Ma Mileo\n",
      "Mattián Moxiahia\n",
      "San Mireo Tebasto\n",
      "Sena Mintepec\n",
      "Sititla\n",
      "Matimár de Tatenaca\n",
      "San Pedro de Sal Parto de Marta de Aruanda\n",
      "San Pedro Jacantía de Samiapo\n",
      "San Jerónimo Tilocuepo\n",
      "Santiago Tomaconotuahicca\n",
      "Santiago Sololtepec\n",
      "San albo\n",
      "Samadol\n",
      "Santiago de Sal Pablo Atlapan\n",
      "San Pedro Amiatlán\n",
      "San Dien de la Solinar de lo SelosanoSan Parla del Protengo\n",
      "San Pedro Mataparo de las Sinás\n",
      "San Anto Tuiapan\n",
      "San Anantan\n",
      "Santa María de la Salina\n",
      "Santa Laca Yuautlan\n",
      "San Juan Atatinta Atalta\n",
      "Santa Matía Mateneses Yitonas\n",
      "Santa Catarina Tlaláxtla\n",
      "Santiago Tlacotetlahca\n",
      "Santa María Tlacotepec\n",
      "Santa Tlamixtacan\n",
      "Santiago Sochitlán\n",
      "San Miguel de Siranto\n",
      "San Pedro Totopen\n",
      "San Pedro Toxtlahua\n",
      "San Mateo Santo Do irba\n",
      "Teoticao\n",
      "Telima\n",
      "Temimputitlán\n",
      "Temotepec\n",
      "\n",
      "Tamáx\n",
      "Bampa\n",
      "Vala\n",
      "Mazapa\n",
      "Matampa\n",
      "Matampa\n",
      "Ramarena\n",
      "Ajacutli\n",
      "Aoca\n",
      "Atera\n",
      "Atia\n",
      "Migael de Altaa\n",
      "Laringo Lavinho\n",
      "Lagonis\n",
      "Laginidado Loso Ma Matoa\n",
      "Rosas Lo Panabaro\n",
      "Lucabár\n",
      "Puz\n",
      "Dranisto Domisgo Ixtapata\n",
      "Santa María\n",
      "Inta Miual de Juárez\n",
      "Sanaval\n",
      "El Miguel Matapen\n",
      "Sen Juan de  oringo Tepamueto\n",
      "San Miruel de la Indenen\n",
      "Sana Mirianga de Ateban\n",
      "Santo Domingo Tlatopepo\n",
      "Santiago Tltotepac\n",
      "Santiago Tlamuzanatepec\n",
      "Santiago Tlapatapuc\n",
      "Santiago Tomaltepec\n",
      "Santiago Tocutitlán\n",
      "Santiago Tomatutlán\n",
      "Santiago Tomaltepec\n",
      "Santiago Tocatepec\n",
      "Santiago Taxcuala\n",
      "Santa Ana Tepatinahi\n",
      "Santa Inis de la Indapende Santa de Ixiatepec\n",
      "Santa María de lamaso Zimatlpec\n",
      "Santa María Ototoneno\n",
      "Santa María de lo Resososonasala\n",
      "Santa La Ya Yelape\n",
      "San Mateo Etelco\n",
      "San Marton de  Orrdodo\n",
      "San Pedro Martaner Tituitingo Tetlaxtepec\n",
      "San Jemónimo Teotipac\n",
      "Santiago Tompa\n",
      "Timuatz\n",
      "San Jimónimo Tlatocatepec\n",
      "Tlaco\n",
      "Tepachingo\n",
      "Teatitlán\n",
      "Temuitinggo\n",
      "Teptitepec\n",
      "Tetatipán\n",
      "Toxtetla\n",
      "Tutmayán\n",
      "Tuxtitan\n",
      "Tomititáá\n",
      "Tochitlán\n",
      "Totatimpe\n",
      "Toatlás\n",
      "Totatepec\n",
      "Motta Motesoro\n",
      "Ixcamuchiatlán\n",
      "Ixtlalcha\n",
      "tlala\n",
      "Zepatla\n",
      "Ixtapatlaho\n",
      "Ixtatepec\n",
      "Ixtatotlá\n",
      "Mostarres\n",
      "Moramo Mirtapa\n",
      "Moteatla\n",
      "Etlande\n",
      "Etarango\n",
      "Ixca\n",
      "Ixian Migua Miria de la Indenenistis Mixaltepec\n",
      "Satia"
     ]
    }
   ],
   "source": [
    "length = 200\n",
    "\n",
    "ix = [np.random.randint(VOCAB_SIZE)]\n",
    "y_char = [index_to_char[ix[-1]]]\n",
    "X = np.zeros((1, length, VOCAB_SIZE))\n",
    "for i in range(length):\n",
    "    X[0, i, :][ix[-1]] = 1\n",
    "    print(index_to_char[ix[-1]], end=\"\")\n",
    "    ix = np.argmax(model.predict(X[:, :i+1, :])[0], 1)\n",
    "    y_char.append(index_to_char[ix[-1]])"
   ]
  }
 ],
 "metadata": {
  "kernelspec": {
   "display_name": "Python 3",
   "language": "python",
   "name": "python3"
  },
  "language_info": {
   "codemirror_mode": {
    "name": "ipython",
    "version": 3
   },
   "file_extension": ".py",
   "mimetype": "text/x-python",
   "name": "python",
   "nbconvert_exporter": "python",
   "pygments_lexer": "ipython3",
   "version": "3.5.4"
  }
 },
 "nbformat": 4,
 "nbformat_minor": 2
}
